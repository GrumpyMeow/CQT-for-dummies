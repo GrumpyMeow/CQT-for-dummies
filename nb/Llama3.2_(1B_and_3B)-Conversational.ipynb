{
  "cells": [
    {
      "cell_type": "markdown",
      "metadata": {
        "id": "aWmTl-cbur3i"
      },
      "source": [
        "To run this, press \"*Runtime*\" and press \"*Run all*\" on a **free** Tesla T4 Google Colab instance!\n",
        "<div class=\"align-center\">\n",
        "<a href=\"https://unsloth.ai/\"><img src=\"https://github.com/unslothai/unsloth/raw/main/images/unsloth%20new%20logo.png\" width=\"115\"></a>\n",
        "<a href=\"https://discord.gg/unsloth\"><img src=\"https://github.com/unslothai/unsloth/raw/main/images/Discord button.png\" width=\"145\"></a>\n",
        "<a href=\"https://docs.unsloth.ai/\"><img src=\"https://github.com/unslothai/unsloth/blob/main/images/documentation%20green%20button.png?raw=true\" width=\"125\"></a></a> Join Discord if you need help + ⭐ <i>Star us on <a href=\"https://github.com/unslothai/unsloth\">Github</a> </i> ⭐\n",
        "</div>\n",
        "\n",
        "To install Unsloth on your own computer, follow the installation instructions on our Github page [here](https://docs.unsloth.ai/get-started/installing-+-updating).\n",
        "\n",
        "You will learn how to do [data prep](#Data), how to [train](#Train), how to [run the model](#Inference), & [how to save it](#Save)\n",
        "\n",
        "Visit our docs for all our [model uploads](https://docs.unsloth.ai/get-started/all-our-models) and [notebooks](https://docs.unsloth.ai/get-started/unsloth-notebooks).\n"
      ]
    },
    {
      "cell_type": "markdown",
      "metadata": {
        "id": "NNgGycSJur3k"
      },
      "source": [
        "### News"
      ]
    },
    {
      "cell_type": "markdown",
      "metadata": {
        "id": "CuMYcaKsur3l"
      },
      "source": [
        "**[NEW] We've fixed many bugs in Phi-4** which greatly increases Phi-4's accuracy. See our [blogpost](https://unsloth.ai/blog/phi4)\n",
        "\n",
        "[NEW] You can view all Phi-4 model uploads with our bug fixes including [dynamic 4-bit quants](https://unsloth.ai/blog/dynamic-4bit), GGUF & more [here](https://huggingface.co/collections/unsloth/phi-4-all-versions-677eecf93784e61afe762afa)\n",
        "\n",
        "[NEW] As of Novemeber 2024, Unsloth now supports [vision finetuning](https://unsloth.ai/blog/vision)!\n"
      ]
    },
    {
      "cell_type": "markdown",
      "metadata": {
        "id": "nmFcvnfZur3l"
      },
      "source": [
        "### Installation"
      ]
    },
    {
      "cell_type": "code",
      "execution_count": 44,
      "metadata": {
        "id": "qXeQ_EpLur3l"
      },
      "outputs": [],
      "source": [
        "%%capture\n",
        "# Normally using pip install unsloth is enough\n",
        "\n",
        "# Temporarily as of Jan 31st 2025, Colab has some issues with Pytorch\n",
        "# Using pip install unsloth will take 3 minutes, whilst the below takes <1 minute:\n",
        "!pip install --no-deps bitsandbytes accelerate xformers==0.0.29 peft trl triton\n",
        "!pip install --no-deps cut_cross_entropy unsloth_zoo\n",
        "!pip install sentencepiece protobuf datasets huggingface_hub hf_transfer\n",
        "!pip install --no-deps unsloth"
      ]
    },
    {
      "cell_type": "markdown",
      "metadata": {
        "id": "hucwlDKgur3m"
      },
      "source": [
        "### Unsloth"
      ]
    },
    {
      "cell_type": "code",
      "execution_count": 45,
      "metadata": {
        "colab": {
          "base_uri": "https://localhost:8080/"
        },
        "id": "PjB3TJC4ur3m",
        "outputId": "d11dcbd5-a953-4ca9-8d6c-1c0a70961461"
      },
      "outputs": [
        {
          "output_type": "stream",
          "name": "stdout",
          "text": [
            "==((====))==  Unsloth 2025.1.8: Fast Llama patching. Transformers: 4.47.1.\n",
            "   \\\\   /|    GPU: Tesla T4. Max memory: 14.741 GB. Platform: Linux.\n",
            "O^O/ \\_/ \\    Torch: 2.5.1+cu124. CUDA: 7.5. CUDA Toolkit: 12.4. Triton: 3.1.0\n",
            "\\        /    Bfloat16 = FALSE. FA [Xformers = 0.0.29. FA2 = False]\n",
            " \"-____-\"     Free Apache license: http://github.com/unslothai/unsloth\n",
            "Unsloth: Fast downloading is enabled - ignore downloading bars which are red colored!\n"
          ]
        }
      ],
      "source": [
        "from unsloth import FastLanguageModel\n",
        "import torch\n",
        "max_seq_length = 2048 # Choose any! We auto support RoPE Scaling internally!\n",
        "dtype = None # None for auto detection. Float16 for Tesla T4, V100, Bfloat16 for Ampere+\n",
        "load_in_4bit = True # Use 4bit quantization to reduce memory usage. Can be False.\n",
        "\n",
        "# 4bit pre quantized models we support for 4x faster downloading + no OOMs.\n",
        "fourbit_models = [\n",
        "    \"unsloth/Meta-Llama-3.1-8B-bnb-4bit\",      # Llama-3.1 2x faster\n",
        "    \"unsloth/Meta-Llama-3.1-8B-Instruct-bnb-4bit\",\n",
        "    \"unsloth/Meta-Llama-3.1-70B-bnb-4bit\",\n",
        "    \"unsloth/Meta-Llama-3.1-405B-bnb-4bit\",    # 4bit for 405b!\n",
        "    \"unsloth/Mistral-Small-Instruct-2409\",     # Mistral 22b 2x faster!\n",
        "    \"unsloth/mistral-7b-instruct-v0.3-bnb-4bit\",\n",
        "    \"unsloth/Phi-3.5-mini-instruct\",           # Phi-3.5 2x faster!\n",
        "    \"unsloth/Phi-3-medium-4k-instruct\",\n",
        "    \"unsloth/gemma-2-9b-bnb-4bit\",\n",
        "    \"unsloth/gemma-2-27b-bnb-4bit\",            # Gemma 2x faster!\n",
        "\n",
        "    \"unsloth/Llama-3.2-1B-bnb-4bit\",           # NEW! Llama 3.2 models\n",
        "    \"unsloth/Llama-3.2-1B-Instruct-bnb-4bit\",\n",
        "    \"unsloth/Llama-3.2-3B-bnb-4bit\",\n",
        "    \"unsloth/Llama-3.2-3B-Instruct-bnb-4bit\",\n",
        "\n",
        "    \"unsloth/Llama-3.3-70B-Instruct-bnb-4bit\" # NEW! Llama 3.3 70B!\n",
        "] # More models at https://huggingface.co/unsloth\n",
        "\n",
        "model, tokenizer = FastLanguageModel.from_pretrained(\n",
        "    model_name = \"unsloth/Llama-3.2-3B-Instruct\", # or choose \"unsloth/Llama-3.2-1B-Instruct\"\n",
        "    max_seq_length = max_seq_length,\n",
        "    dtype = dtype,\n",
        "    load_in_4bit = load_in_4bit,\n",
        "    # token = \"hf_...\", # use one if using gated models like meta-llama/Llama-2-7b-hf\n",
        ")"
      ]
    },
    {
      "cell_type": "markdown",
      "metadata": {
        "id": "SXd9bTZd1aaL"
      },
      "source": [
        "We now add LoRA adapters so we only need to update 1 to 10% of all parameters!"
      ]
    },
    {
      "cell_type": "code",
      "execution_count": 46,
      "metadata": {
        "id": "6bZsfBuZDeCL"
      },
      "outputs": [],
      "source": [
        "model = FastLanguageModel.get_peft_model(\n",
        "    model,\n",
        "    r = 16, # Choose any number > 0 ! Suggested 8, 16, 32, 64, 128\n",
        "    target_modules = [\"q_proj\", \"k_proj\", \"v_proj\", \"o_proj\",\n",
        "                      \"gate_proj\", \"up_proj\", \"down_proj\",],\n",
        "    lora_alpha = 16,\n",
        "    lora_dropout = 0, # Supports any, but = 0 is optimized\n",
        "    bias = \"none\",    # Supports any, but = \"none\" is optimized\n",
        "    # [NEW] \"unsloth\" uses 30% less VRAM, fits 2x larger batch sizes!\n",
        "    use_gradient_checkpointing = \"unsloth\", # True or \"unsloth\" for very long context\n",
        "    random_state = 3407,\n",
        "    use_rslora = False,  # We support rank stabilized LoRA\n",
        "    loftq_config = None, # And LoftQ\n",
        ")"
      ]
    },
    {
      "cell_type": "markdown",
      "metadata": {
        "id": "vITh0KVJ10qX"
      },
      "source": [
        "<a name=\"Data\"></a>\n",
        "### Data Prep\n",
        "We now use the `Llama-3.1` format for conversation style finetunes. We use [Maxime Labonne's FineTome-100k](https://huggingface.co/datasets/mlabonne/FineTome-100k) dataset in ShareGPT style. But we convert it to HuggingFace's normal multiturn format `(\"role\", \"content\")` instead of `(\"from\", \"value\")`/ Llama-3 renders multi turn conversations like below:\n",
        "\n",
        "```\n",
        "<|begin_of_text|><|start_header_id|>user<|end_header_id|>\n",
        "\n",
        "Hello!<|eot_id|><|start_header_id|>assistant<|end_header_id|>\n",
        "\n",
        "Hey there! How are you?<|eot_id|><|start_header_id|>user<|end_header_id|>\n",
        "\n",
        "I'm great thanks!<|eot_id|>\n",
        "```\n",
        "\n",
        "We use our `get_chat_template` function to get the correct chat template. We support `zephyr, chatml, mistral, llama, alpaca, vicuna, vicuna_old, phi3, llama3` and more."
      ]
    },
    {
      "cell_type": "code",
      "execution_count": 47,
      "metadata": {
        "id": "LjY75GoYUCB8"
      },
      "outputs": [],
      "source": [
        "from unsloth.chat_templates import get_chat_template\n",
        "\n",
        "tokenizer = get_chat_template(\n",
        "    tokenizer,\n",
        "    chat_template = \"llama-3.1\",\n",
        ")\n",
        "\n",
        "def formatting_prompts_func(examples):\n",
        "    convos = examples[\"conversations\"]\n",
        "    texts = [tokenizer.apply_chat_template(convo, tokenize = False, add_generation_prompt = False) for convo in convos]\n",
        "    return { \"text\" : texts, }\n",
        "pass\n",
        "\n",
        "#from datasets import load_dataset\n",
        "#dataset = load_dataset(\"mlabonne/FineTome-100k\", split = \"train\")\n",
        "\n",
        "from datasets import Dataset\n",
        "dataset = Dataset.from_json(\"pensioen/pensioen.json\")\n",
        "\n",
        "\n"
      ]
    },
    {
      "cell_type": "markdown",
      "metadata": {
        "id": "K9CBpiISFa6C"
      },
      "source": [
        "We now use `standardize_sharegpt` to convert ShareGPT style datasets into HuggingFace's generic format. This changes the dataset from looking like:\n",
        "```\n",
        "{\"from\": \"system\", \"value\": \"You are an assistant\"}\n",
        "{\"from\": \"human\", \"value\": \"What is 2+2?\"}\n",
        "{\"from\": \"gpt\", \"value\": \"It's 4.\"}\n",
        "```\n",
        "to\n",
        "```\n",
        "{\"role\": \"system\", \"content\": \"You are an assistant\"}\n",
        "{\"role\": \"user\", \"content\": \"What is 2+2?\"}\n",
        "{\"role\": \"assistant\", \"content\": \"It's 4.\"}\n",
        "```"
      ]
    },
    {
      "cell_type": "code",
      "execution_count": 48,
      "metadata": {
        "id": "oPXzJZzHEgXe"
      },
      "outputs": [],
      "source": [
        "from unsloth.chat_templates import standardize_sharegpt\n",
        "dataset = standardize_sharegpt(dataset)\n",
        "dataset = dataset.map(formatting_prompts_func, batched = True,)"
      ]
    },
    {
      "cell_type": "markdown",
      "metadata": {
        "id": "ndDUB23CGAC5"
      },
      "source": [
        "We look at how the conversations are structured for item 5:"
      ]
    },
    {
      "cell_type": "code",
      "execution_count": 49,
      "metadata": {
        "colab": {
          "base_uri": "https://localhost:8080/"
        },
        "id": "gGFzmplrEy9I",
        "outputId": "debd33c8-c839-49f3-ed91-daf563de92d8"
      },
      "outputs": [
        {
          "output_type": "execute_result",
          "data": {
            "text/plain": [
              "[{'content': 'Jij bent een assistent die veel weet over pensioen en graag wilt helpen',\n",
              "  'role': 'system'},\n",
              " {'content': 'Wat is pensioen?', 'role': 'user'},\n",
              " {'content': 'Pensioen is een inkomenvorm waarbij je via je werkgever premie inlegt bij een pensioenfonds. Op je pensioenleeftijd wordt dit ingelegde kapitaal gebruikt voor het uitkeren van een inkomen.',\n",
              "  'role': 'assistant'},\n",
              " {'content': 'Waarom Zwitserleven?', 'role': 'user'},\n",
              " {'content': 'Zwitserleven staat voor: \"Eenvoudig beheer\", \"Heldere communicatie\", \"Duurzame partner\"',\n",
              "  'role': 'assistant'},\n",
              " {'content': 'Waar zou ik Zwitserleven van kunnen kennen?', 'role': 'user'},\n",
              " {'content': 'Je zou ons kunnen kennen van de term \"Het Zwitserleven Gevoel\". Deze term gebruikt Zwitserleven sinds 1983 voor de reclamecampagnes. De term is bedacht door Theo Postma. In onze campagnes speelden verschillende bekende en minder bekende Nederlanders een hoofdrol, onder wie: Joop Doderer, Derek de Lint, Kees Brusse, Huub Stapel, Ellen ten Damme, Famke Janssen, Wibi Soerjadi en Chris Zegers. De campagne liet zien hoe je met een goede pensioenverzekering op latere leeftijd nog volop van het leven kunt genieten. Het Zwitserleven gevoel staat zelfs in de Dikke Van Dale. We zijn er beroemd mee geworden. Bijna iedereen kent het. ',\n",
              "  'role': 'assistant'},\n",
              " {'content': 'Wat is \"Het Zwitserleven Gevoel\"?', 'role': 'user'},\n",
              " {'content': 'Dat is het gevoel dat je hebt als je je pensioen goed geregeld hebt, zodat je zorgeloos kunt genieten van je oude dag. Wij vinden dan ook dat iedereen \"Het Zwitserleven Gevoel\" verdient.',\n",
              "  'role': 'assistant'},\n",
              " {'content': 'Wat is \"pensioenopbouw\"?', 'role': 'user'},\n",
              " {'content': 'Pensioenopbouw is de periode van het inleggen van pensioenpremie. De ingelegde pensioenpremie wordt binnen het pensioenfonds belegd met als doel hiervan meer kapitaal te maken.',\n",
              "  'role': 'assistant'},\n",
              " {'content': 'Waar kan ik inzicht krijgen in mijn opgebouwde pensioen?',\n",
              "  'role': 'user'},\n",
              " {'content': 'Voor het bekijken van je huidige opgebouwde pensioen bij het Zwitserleven pensioenfonds, kan je inloggen op de website van zwitserleven (zwitserleven.nl). Mocht je in het verleden bij andere pensioenfondsen premie ingelegd hebben, kan je dit niet direct zien op de Zwitserleven-website. De overheid heeft hiervoor de website \"mijnpensioenoverzicht.nl\" beschikbaar gemaakt, waar alle pensioenuitvoerders jouw pensioengegevens inzichtelijk maken. Binnen de Zwitserleven-website kan deze gegevens ingelezen worden, zodat dit ook meegenomen wordt bij het maken pensioenkeuzes.',\n",
              "  'role': 'assistant'},\n",
              " {'content': 'Wat kan ik vinden op mijnpensioenoverzicht.nl?', 'role': 'user'},\n",
              " {'content': 'Op de website \"mijnpensioenoverzicht.nl\" krijg je een overzicht van alle pensioenfondsen waar je kapitaal opgebouwd hebt middels gedane pensioenpremie\\'s.',\n",
              "  'role': 'assistant'},\n",
              " {'content': 'Wat voor keuzes kan een werkgever vooraf al voor werknemers bij het aangaan van een contract met een pensioenfonds?',\n",
              "  'role': 'user'},\n",
              " {'content': 'De werkgever heeft vooral al de pensioenleeftijd bepaald.',\n",
              "  'role': 'assistant'},\n",
              " {'content': 'Heeft een scheiding gevolgen voor de pensioenuitkering?',\n",
              "  'role': 'user'},\n",
              " {'content': 'Ja', 'role': 'assistant'},\n",
              " {'content': 'Wanneer gaat een pensioenfonds over tot het uitkeren van het pensioen?',\n",
              "  'role': 'user'},\n",
              " {'content': 'Op de dan geldende pensioenleeftijd voor u',\n",
              "  'role': 'assistant'},\n",
              " {'content': 'Wat is mijn pensioenleeftijd?', 'role': 'user'},\n",
              " {'content': 'Uw huidige pensioenleeftijd is op 67 jarige leeftijd.',\n",
              "  'role': 'assistant'},\n",
              " {'content': 'Kan mijn pensioenleeftijd nog veranderen?', 'role': 'user'},\n",
              " {'content': 'Nee.', 'role': 'assistant'},\n",
              " {'content': 'Hoe kan ik mijn pensioeninkomen verhogen?', 'role': 'user'},\n",
              " {'content': 'Door: extra premie in te leggen, te kiezen voor beleggen in een fonds met een hoger risicoprofiel.',\n",
              "  'role': 'assistant'},\n",
              " {'content': 'Kan ik zelf mijn pensioenleeftijd aan passen?', 'role': 'user'},\n",
              " {'content': 'Nee. Je kan wel kiezen om je pensioen eerder later of later te laten uitkeren dan uw pensioenleeftijd.',\n",
              "  'role': 'assistant'}]"
            ]
          },
          "metadata": {},
          "execution_count": 49
        }
      ],
      "source": [
        "dataset[0][\"conversations\"]"
      ]
    },
    {
      "cell_type": "markdown",
      "metadata": {
        "id": "GfzTdMtvGE6w"
      },
      "source": [
        "And we see how the chat template transformed these conversations.\n",
        "\n",
        "**[Notice]** Llama 3.1 Instruct's default chat template default adds `\"Cutting Knowledge Date: December 2023\\nToday Date: 26 July 2024\"`, so do not be alarmed!"
      ]
    },
    {
      "cell_type": "code",
      "execution_count": 50,
      "metadata": {
        "colab": {
          "base_uri": "https://localhost:8080/",
          "height": 0
        },
        "id": "vhXv0xFMGNKE",
        "outputId": "5bf8fab7-4e4a-4ce4-d6ac-daabac577bb5"
      },
      "outputs": [
        {
          "output_type": "execute_result",
          "data": {
            "text/plain": [
              "'<|begin_of_text|><|start_header_id|>system<|end_header_id|>\\n\\nCutting Knowledge Date: December 2023\\nToday Date: 26 July 2024\\n\\nJij bent een assistent die veel weet over pensioen en graag wilt helpen<|eot_id|><|start_header_id|>user<|end_header_id|>\\n\\nWat is pensioen?<|eot_id|><|start_header_id|>assistant<|end_header_id|>\\n\\nPensioen is een inkomenvorm waarbij je via je werkgever premie inlegt bij een pensioenfonds. Op je pensioenleeftijd wordt dit ingelegde kapitaal gebruikt voor het uitkeren van een inkomen.<|eot_id|><|start_header_id|>user<|end_header_id|>\\n\\nWaarom Zwitserleven?<|eot_id|><|start_header_id|>assistant<|end_header_id|>\\n\\nZwitserleven staat voor: \"Eenvoudig beheer\", \"Heldere communicatie\", \"Duurzame partner\"<|eot_id|><|start_header_id|>user<|end_header_id|>\\n\\nWaar zou ik Zwitserleven van kunnen kennen?<|eot_id|><|start_header_id|>assistant<|end_header_id|>\\n\\nJe zou ons kunnen kennen van de term \"Het Zwitserleven Gevoel\". Deze term gebruikt Zwitserleven sinds 1983 voor de reclamecampagnes. De term is bedacht door Theo Postma. In onze campagnes speelden verschillende bekende en minder bekende Nederlanders een hoofdrol, onder wie: Joop Doderer, Derek de Lint, Kees Brusse, Huub Stapel, Ellen ten Damme, Famke Janssen, Wibi Soerjadi en Chris Zegers. De campagne liet zien hoe je met een goede pensioenverzekering op latere leeftijd nog volop van het leven kunt genieten. Het Zwitserleven gevoel staat zelfs in de Dikke Van Dale. We zijn er beroemd mee geworden. Bijna iedereen kent het. <|eot_id|><|start_header_id|>user<|end_header_id|>\\n\\nWat is \"Het Zwitserleven Gevoel\"?<|eot_id|><|start_header_id|>assistant<|end_header_id|>\\n\\nDat is het gevoel dat je hebt als je je pensioen goed geregeld hebt, zodat je zorgeloos kunt genieten van je oude dag. Wij vinden dan ook dat iedereen \"Het Zwitserleven Gevoel\" verdient.<|eot_id|><|start_header_id|>user<|end_header_id|>\\n\\nWat is \"pensioenopbouw\"?<|eot_id|><|start_header_id|>assistant<|end_header_id|>\\n\\nPensioenopbouw is de periode van het inleggen van pensioenpremie. De ingelegde pensioenpremie wordt binnen het pensioenfonds belegd met als doel hiervan meer kapitaal te maken.<|eot_id|><|start_header_id|>user<|end_header_id|>\\n\\nWaar kan ik inzicht krijgen in mijn opgebouwde pensioen?<|eot_id|><|start_header_id|>assistant<|end_header_id|>\\n\\nVoor het bekijken van je huidige opgebouwde pensioen bij het Zwitserleven pensioenfonds, kan je inloggen op de website van zwitserleven (zwitserleven.nl). Mocht je in het verleden bij andere pensioenfondsen premie ingelegd hebben, kan je dit niet direct zien op de Zwitserleven-website. De overheid heeft hiervoor de website \"mijnpensioenoverzicht.nl\" beschikbaar gemaakt, waar alle pensioenuitvoerders jouw pensioengegevens inzichtelijk maken. Binnen de Zwitserleven-website kan deze gegevens ingelezen worden, zodat dit ook meegenomen wordt bij het maken pensioenkeuzes.<|eot_id|><|start_header_id|>user<|end_header_id|>\\n\\nWat kan ik vinden op mijnpensioenoverzicht.nl?<|eot_id|><|start_header_id|>assistant<|end_header_id|>\\n\\nOp de website \"mijnpensioenoverzicht.nl\" krijg je een overzicht van alle pensioenfondsen waar je kapitaal opgebouwd hebt middels gedane pensioenpremie\\'s.<|eot_id|><|start_header_id|>user<|end_header_id|>\\n\\nWat voor keuzes kan een werkgever vooraf al voor werknemers bij het aangaan van een contract met een pensioenfonds?<|eot_id|><|start_header_id|>assistant<|end_header_id|>\\n\\nDe werkgever heeft vooral al de pensioenleeftijd bepaald.<|eot_id|><|start_header_id|>user<|end_header_id|>\\n\\nHeeft een scheiding gevolgen voor de pensioenuitkering?<|eot_id|><|start_header_id|>assistant<|end_header_id|>\\n\\nJa<|eot_id|><|start_header_id|>user<|end_header_id|>\\n\\nWanneer gaat een pensioenfonds over tot het uitkeren van het pensioen?<|eot_id|><|start_header_id|>assistant<|end_header_id|>\\n\\nOp de dan geldende pensioenleeftijd voor u<|eot_id|><|start_header_id|>user<|end_header_id|>\\n\\nWat is mijn pensioenleeftijd?<|eot_id|><|start_header_id|>assistant<|end_header_id|>\\n\\nUw huidige pensioenleeftijd is op 67 jarige leeftijd.<|eot_id|><|start_header_id|>user<|end_header_id|>\\n\\nKan mijn pensioenleeftijd nog veranderen?<|eot_id|><|start_header_id|>assistant<|end_header_id|>\\n\\nNee.<|eot_id|><|start_header_id|>user<|end_header_id|>\\n\\nHoe kan ik mijn pensioeninkomen verhogen?<|eot_id|><|start_header_id|>assistant<|end_header_id|>\\n\\nDoor: extra premie in te leggen, te kiezen voor beleggen in een fonds met een hoger risicoprofiel.<|eot_id|><|start_header_id|>user<|end_header_id|>\\n\\nKan ik zelf mijn pensioenleeftijd aan passen?<|eot_id|><|start_header_id|>assistant<|end_header_id|>\\n\\nNee. Je kan wel kiezen om je pensioen eerder later of later te laten uitkeren dan uw pensioenleeftijd.<|eot_id|>'"
            ],
            "application/vnd.google.colaboratory.intrinsic+json": {
              "type": "string"
            }
          },
          "metadata": {},
          "execution_count": 50
        }
      ],
      "source": [
        "dataset[0][\"text\"]"
      ]
    },
    {
      "cell_type": "markdown",
      "metadata": {
        "id": "idAEIeSQ3xdS"
      },
      "source": [
        "<a name=\"Train\"></a>\n",
        "### Train the model\n",
        "Now let's use Huggingface TRL's `SFTTrainer`! More docs here: [TRL SFT docs](https://huggingface.co/docs/trl/sft_trainer). We do 60 steps to speed things up, but you can set `num_train_epochs=1` for a full run, and turn off `max_steps=None`. We also support TRL's `DPOTrainer`!"
      ]
    },
    {
      "cell_type": "code",
      "execution_count": 51,
      "metadata": {
        "id": "95_Nn-89DhsL"
      },
      "outputs": [],
      "source": [
        "from trl import SFTTrainer\n",
        "from transformers import TrainingArguments, DataCollatorForSeq2Seq\n",
        "from unsloth import is_bfloat16_supported\n",
        "\n",
        "trainer = SFTTrainer(\n",
        "    model = model,\n",
        "    tokenizer = tokenizer,\n",
        "    train_dataset = dataset,\n",
        "    dataset_text_field = \"text\",\n",
        "    max_seq_length = max_seq_length,\n",
        "    data_collator = DataCollatorForSeq2Seq(tokenizer = tokenizer),\n",
        "    dataset_num_proc = 1, # 2\n",
        "    packing = False, # Can make training 5x faster for short sequences.\n",
        "    args = TrainingArguments(\n",
        "        per_device_train_batch_size = 2,\n",
        "        gradient_accumulation_steps = 4,\n",
        "        warmup_steps = 5,\n",
        "        # num_train_epochs = 1, # Set this for 1 full training run.\n",
        "        max_steps = 60,\n",
        "        learning_rate = 2e-4,\n",
        "        fp16 = not is_bfloat16_supported(),\n",
        "        bf16 = is_bfloat16_supported(),\n",
        "        logging_steps = 1,\n",
        "        optim = \"adamw_8bit\",\n",
        "        weight_decay = 0.01,\n",
        "        lr_scheduler_type = \"linear\",\n",
        "        seed = 3407,\n",
        "        output_dir = \"outputs\",\n",
        "        report_to = \"none\", # Use this for WandB etc\n",
        "    ),\n",
        ")"
      ]
    },
    {
      "cell_type": "markdown",
      "metadata": {
        "id": "C_sGp5XlG6dq"
      },
      "source": [
        "We also use Unsloth's `train_on_completions` method to only train on the assistant outputs and ignore the loss on the user's inputs."
      ]
    },
    {
      "cell_type": "code",
      "execution_count": 52,
      "metadata": {
        "id": "juQiExuBG5Bt"
      },
      "outputs": [],
      "source": [
        "from unsloth.chat_templates import train_on_responses_only\n",
        "trainer = train_on_responses_only(\n",
        "    trainer,\n",
        "    instruction_part = \"<|start_header_id|>user<|end_header_id|>\\n\\n\",\n",
        "    response_part = \"<|start_header_id|>assistant<|end_header_id|>\\n\\n\",\n",
        ")"
      ]
    },
    {
      "cell_type": "markdown",
      "metadata": {
        "id": "Dv1NBUozV78l"
      },
      "source": [
        "We verify masking is actually done:"
      ]
    },
    {
      "cell_type": "code",
      "execution_count": 53,
      "metadata": {
        "colab": {
          "base_uri": "https://localhost:8080/",
          "height": 192
        },
        "id": "LtsMVtlkUhja",
        "outputId": "46f70741-41a2-42c6-e50a-5535d0b1e0dc"
      },
      "outputs": [
        {
          "output_type": "execute_result",
          "data": {
            "text/plain": [
              "'<|begin_of_text|><|start_header_id|>system<|end_header_id|>\\n\\nCutting Knowledge Date: December 2023\\nToday Date: 26 July 2024\\n\\nJij bent een assistent die veel weet over pensioen en graag wilt helpen<|eot_id|><|start_header_id|>user<|end_header_id|>\\n\\nWat is pensioen?<|eot_id|><|start_header_id|>assistant<|end_header_id|>\\n\\nPensioen is een inkomenvorm waarbij je via je werkgever premie inlegt bij een pensioenfonds. Op je pensioenleeftijd wordt dit ingelegde kapitaal gebruikt voor het uitkeren van een inkomen.<|eot_id|><|start_header_id|>user<|end_header_id|>\\n\\nWaarom Zwitserleven?<|eot_id|><|start_header_id|>assistant<|end_header_id|>\\n\\nZwitserleven staat voor: \"Eenvoudig beheer\", \"Heldere communicatie\", \"Duurzame partner\"<|eot_id|><|start_header_id|>user<|end_header_id|>\\n\\nWaar zou ik Zwitserleven van kunnen kennen?<|eot_id|><|start_header_id|>assistant<|end_header_id|>\\n\\nJe zou ons kunnen kennen van de term \"Het Zwitserleven Gevoel\". Deze term gebruikt Zwitserleven sinds 1983 voor de reclamecampagnes. De term is bedacht door Theo Postma. In onze campagnes speelden verschillende bekende en minder bekende Nederlanders een hoofdrol, onder wie: Joop Doderer, Derek de Lint, Kees Brusse, Huub Stapel, Ellen ten Damme, Famke Janssen, Wibi Soerjadi en Chris Zegers. De campagne liet zien hoe je met een goede pensioenverzekering op latere leeftijd nog volop van het leven kunt genieten. Het Zwitserleven gevoel staat zelfs in de Dikke Van Dale. We zijn er beroemd mee geworden. Bijna iedereen kent het. <|eot_id|><|start_header_id|>user<|end_header_id|>\\n\\nWat is \"Het Zwitserleven Gevoel\"?<|eot_id|><|start_header_id|>assistant<|end_header_id|>\\n\\nDat is het gevoel dat je hebt als je je pensioen goed geregeld hebt, zodat je zorgeloos kunt genieten van je oude dag. Wij vinden dan ook dat iedereen \"Het Zwitserleven Gevoel\" verdient.<|eot_id|><|start_header_id|>user<|end_header_id|>\\n\\nWat is \"pensioenopbouw\"?<|eot_id|><|start_header_id|>assistant<|end_header_id|>\\n\\nPensioenopbouw is de periode van het inleggen van pensioenpremie. De ingelegde pensioenpremie wordt binnen het pensioenfonds belegd met als doel hiervan meer kapitaal te maken.<|eot_id|><|start_header_id|>user<|end_header_id|>\\n\\nWaar kan ik inzicht krijgen in mijn opgebouwde pensioen?<|eot_id|><|start_header_id|>assistant<|end_header_id|>\\n\\nVoor het bekijken van je huidige opgebouwde pensioen bij het Zwitserleven pensioenfonds, kan je inloggen op de website van zwitserleven (zwitserleven.nl). Mocht je in het verleden bij andere pensioenfondsen premie ingelegd hebben, kan je dit niet direct zien op de Zwitserleven-website. De overheid heeft hiervoor de website \"mijnpensioenoverzicht.nl\" beschikbaar gemaakt, waar alle pensioenuitvoerders jouw pensioengegevens inzichtelijk maken. Binnen de Zwitserleven-website kan deze gegevens ingelezen worden, zodat dit ook meegenomen wordt bij het maken pensioenkeuzes.<|eot_id|><|start_header_id|>user<|end_header_id|>\\n\\nWat kan ik vinden op mijnpensioenoverzicht.nl?<|eot_id|><|start_header_id|>assistant<|end_header_id|>\\n\\nOp de website \"mijnpensioenoverzicht.nl\" krijg je een overzicht van alle pensioenfondsen waar je kapitaal opgebouwd hebt middels gedane pensioenpremie\\'s.<|eot_id|><|start_header_id|>user<|end_header_id|>\\n\\nWat voor keuzes kan een werkgever vooraf al voor werknemers bij het aangaan van een contract met een pensioenfonds?<|eot_id|><|start_header_id|>assistant<|end_header_id|>\\n\\nDe werkgever heeft vooral al de pensioenleeftijd bepaald.<|eot_id|><|start_header_id|>user<|end_header_id|>\\n\\nHeeft een scheiding gevolgen voor de pensioenuitkering?<|eot_id|><|start_header_id|>assistant<|end_header_id|>\\n\\nJa<|eot_id|><|start_header_id|>user<|end_header_id|>\\n\\nWanneer gaat een pensioenfonds over tot het uitkeren van het pensioen?<|eot_id|><|start_header_id|>assistant<|end_header_id|>\\n\\nOp de dan geldende pensioenleeftijd voor u<|eot_id|><|start_header_id|>user<|end_header_id|>\\n\\nWat is mijn pensioenleeftijd?<|eot_id|><|start_header_id|>assistant<|end_header_id|>\\n\\nUw huidige pensioenleeftijd is op 67 jarige leeftijd.<|eot_id|><|start_header_id|>user<|end_header_id|>\\n\\nKan mijn pensioenleeftijd nog veranderen?<|eot_id|><|start_header_id|>assistant<|end_header_id|>\\n\\nNee.<|eot_id|><|start_header_id|>user<|end_header_id|>\\n\\nHoe kan ik mijn pensioeninkomen verhogen?<|eot_id|><|start_header_id|>assistant<|end_header_id|>\\n\\nDoor: extra premie in te leggen, te kiezen voor beleggen in een fonds met een hoger risicoprofiel.<|eot_id|><|start_header_id|>user<|end_header_id|>\\n\\nKan ik zelf mijn pensioenleeftijd aan passen?<|eot_id|><|start_header_id|>assistant<|end_header_id|>\\n\\nNee. Je kan wel kiezen om je pensioen eerder later of later te laten uitkeren dan uw pensioenleeftijd.<|eot_id|>'"
            ],
            "application/vnd.google.colaboratory.intrinsic+json": {
              "type": "string"
            }
          },
          "metadata": {},
          "execution_count": 53
        }
      ],
      "source": [
        "tokenizer.decode(trainer.train_dataset[0][\"input_ids\"])"
      ]
    },
    {
      "cell_type": "code",
      "execution_count": 54,
      "metadata": {
        "colab": {
          "base_uri": "https://localhost:8080/",
          "height": 192
        },
        "id": "_rD6fl8EUxnG",
        "outputId": "1a06130c-5c72-40c3-a43f-ca1c06d77aa8"
      },
      "outputs": [
        {
          "output_type": "execute_result",
          "data": {
            "text/plain": [
              "'                                                            \\n\\nPensioen is een inkomenvorm waarbij je via je werkgever premie inlegt bij een pensioenfonds. Op je pensioenleeftijd wordt dit ingelegde kapitaal gebruikt voor het uitkeren van een inkomen.<|eot_id|>                 \\n\\nZwitserleven staat voor: \"Eenvoudig beheer\", \"Heldere communicatie\", \"Duurzame partner\"<|eot_id|>                     \\n\\nJe zou ons kunnen kennen van de term \"Het Zwitserleven Gevoel\". Deze term gebruikt Zwitserleven sinds 1983 voor de reclamecampagnes. De term is bedacht door Theo Postma. In onze campagnes speelden verschillende bekende en minder bekende Nederlanders een hoofdrol, onder wie: Joop Doderer, Derek de Lint, Kees Brusse, Huub Stapel, Ellen ten Damme, Famke Janssen, Wibi Soerjadi en Chris Zegers. De campagne liet zien hoe je met een goede pensioenverzekering op latere leeftijd nog volop van het leven kunt genieten. Het Zwitserleven gevoel staat zelfs in de Dikke Van Dale. We zijn er beroemd mee geworden. Bijna iedereen kent het. <|eot_id|>                     \\n\\nDat is het gevoel dat je hebt als je je pensioen goed geregeld hebt, zodat je zorgeloos kunt genieten van je oude dag. Wij vinden dan ook dat iedereen \"Het Zwitserleven Gevoel\" verdient.<|eot_id|>                   \\n\\nPensioenopbouw is de periode van het inleggen van pensioenpremie. De ingelegde pensioenpremie wordt binnen het pensioenfonds belegd met als doel hiervan meer kapitaal te maken.<|eot_id|>                            \\n\\nVoor het bekijken van je huidige opgebouwde pensioen bij het Zwitserleven pensioenfonds, kan je inloggen op de website van zwitserleven (zwitserleven.nl). Mocht je in het verleden bij andere pensioenfondsen premie ingelegd hebben, kan je dit niet direct zien op de Zwitserleven-website. De overheid heeft hiervoor de website \"mijnpensioenoverzicht.nl\" beschikbaar gemaakt, waar alle pensioenuitvoerders jouw pensioengegevens inzichtelijk maken. Binnen de Zwitserleven-website kan deze gegevens ingelezen worden, zodat dit ook meegenomen wordt bij het maken pensioenkeuzes.<|eot_id|>                       \\n\\nOp de website \"mijnpensioenoverzicht.nl\" krijg je een overzicht van alle pensioenfondsen waar je kapitaal opgebouwd hebt middels gedane pensioenpremie\\'s.<|eot_id|>                                          \\n\\nDe werkgever heeft vooral al de pensioenleeftijd bepaald.<|eot_id|>                         \\n\\nJa<|eot_id|>                             \\n\\nOp de dan geldende pensioenleeftijd voor u<|eot_id|>                  \\n\\nUw huidige pensioenleeftijd is op 67 jarige leeftijd.<|eot_id|>                      \\n\\nNee.<|eot_id|>                      \\n\\nDoor: extra premie in te leggen, te kiezen voor beleggen in een fonds met een hoger risicoprofiel.<|eot_id|>                       \\n\\nNee. Je kan wel kiezen om je pensioen eerder later of later te laten uitkeren dan uw pensioenleeftijd.<|eot_id|>'"
            ],
            "application/vnd.google.colaboratory.intrinsic+json": {
              "type": "string"
            }
          },
          "metadata": {},
          "execution_count": 54
        }
      ],
      "source": [
        "space = tokenizer(\" \", add_special_tokens = False).input_ids[0]\n",
        "tokenizer.decode([space if x == -100 else x for x in trainer.train_dataset[0][\"labels\"]])"
      ]
    },
    {
      "cell_type": "markdown",
      "metadata": {
        "id": "3enWUM0jV-jV"
      },
      "source": [
        "We can see the System and Instruction prompts are successfully masked!"
      ]
    },
    {
      "cell_type": "code",
      "execution_count": 55,
      "metadata": {
        "cellView": "form",
        "colab": {
          "base_uri": "https://localhost:8080/"
        },
        "id": "2ejIt2xSNKKp",
        "outputId": "9e28a43d-8bac-40a8-b5fd-b36e4a43b4d1"
      },
      "outputs": [
        {
          "output_type": "stream",
          "name": "stdout",
          "text": [
            "GPU = Tesla T4. Max memory = 14.741 GB.\n",
            "6.812 GB of memory reserved.\n"
          ]
        }
      ],
      "source": [
        "# @title Show current memory stats\n",
        "gpu_stats = torch.cuda.get_device_properties(0)\n",
        "start_gpu_memory = round(torch.cuda.max_memory_reserved() / 1024 / 1024 / 1024, 3)\n",
        "max_memory = round(gpu_stats.total_memory / 1024 / 1024 / 1024, 3)\n",
        "print(f\"GPU = {gpu_stats.name}. Max memory = {max_memory} GB.\")\n",
        "print(f\"{start_gpu_memory} GB of memory reserved.\")"
      ]
    },
    {
      "cell_type": "code",
      "execution_count": 56,
      "metadata": {
        "colab": {
          "base_uri": "https://localhost:8080/",
          "height": 1000
        },
        "id": "yqxqAZ7KJ4oL",
        "outputId": "a8fae7f6-1088-4e8d-c631-d403ae2e1fd5"
      },
      "outputs": [
        {
          "output_type": "stream",
          "name": "stderr",
          "text": [
            "==((====))==  Unsloth - 2x faster free finetuning | Num GPUs = 1\n",
            "   \\\\   /|    Num examples = 1 | Num Epochs = 60\n",
            "O^O/ \\_/ \\    Batch size per device = 2 | Gradient Accumulation steps = 4\n",
            "\\        /    Total batch size = 8 | Total steps = 60\n",
            " \"-____-\"     Number of trainable parameters = 24,313,856\n"
          ]
        },
        {
          "output_type": "display_data",
          "data": {
            "text/plain": [
              "<IPython.core.display.HTML object>"
            ],
            "text/html": [
              "\n",
              "    <div>\n",
              "      \n",
              "      <progress value='60' max='60' style='width:300px; height:20px; vertical-align: middle;'></progress>\n",
              "      [60/60 01:33, Epoch 60/60]\n",
              "    </div>\n",
              "    <table border=\"1\" class=\"dataframe\">\n",
              "  <thead>\n",
              " <tr style=\"text-align: left;\">\n",
              "      <th>Step</th>\n",
              "      <th>Training Loss</th>\n",
              "    </tr>\n",
              "  </thead>\n",
              "  <tbody>\n",
              "    <tr>\n",
              "      <td>1</td>\n",
              "      <td>1.990700</td>\n",
              "    </tr>\n",
              "    <tr>\n",
              "      <td>2</td>\n",
              "      <td>1.990700</td>\n",
              "    </tr>\n",
              "    <tr>\n",
              "      <td>3</td>\n",
              "      <td>1.967300</td>\n",
              "    </tr>\n",
              "    <tr>\n",
              "      <td>4</td>\n",
              "      <td>1.870400</td>\n",
              "    </tr>\n",
              "    <tr>\n",
              "      <td>5</td>\n",
              "      <td>1.740000</td>\n",
              "    </tr>\n",
              "    <tr>\n",
              "      <td>6</td>\n",
              "      <td>1.598600</td>\n",
              "    </tr>\n",
              "    <tr>\n",
              "      <td>7</td>\n",
              "      <td>1.438900</td>\n",
              "    </tr>\n",
              "    <tr>\n",
              "      <td>8</td>\n",
              "      <td>1.286000</td>\n",
              "    </tr>\n",
              "    <tr>\n",
              "      <td>9</td>\n",
              "      <td>1.137400</td>\n",
              "    </tr>\n",
              "    <tr>\n",
              "      <td>10</td>\n",
              "      <td>0.988000</td>\n",
              "    </tr>\n",
              "    <tr>\n",
              "      <td>11</td>\n",
              "      <td>0.836600</td>\n",
              "    </tr>\n",
              "    <tr>\n",
              "      <td>12</td>\n",
              "      <td>0.691000</td>\n",
              "    </tr>\n",
              "    <tr>\n",
              "      <td>13</td>\n",
              "      <td>0.550100</td>\n",
              "    </tr>\n",
              "    <tr>\n",
              "      <td>14</td>\n",
              "      <td>0.418200</td>\n",
              "    </tr>\n",
              "    <tr>\n",
              "      <td>15</td>\n",
              "      <td>0.315400</td>\n",
              "    </tr>\n",
              "    <tr>\n",
              "      <td>16</td>\n",
              "      <td>0.206300</td>\n",
              "    </tr>\n",
              "    <tr>\n",
              "      <td>17</td>\n",
              "      <td>0.128100</td>\n",
              "    </tr>\n",
              "    <tr>\n",
              "      <td>18</td>\n",
              "      <td>0.080500</td>\n",
              "    </tr>\n",
              "    <tr>\n",
              "      <td>19</td>\n",
              "      <td>0.053300</td>\n",
              "    </tr>\n",
              "    <tr>\n",
              "      <td>20</td>\n",
              "      <td>0.036300</td>\n",
              "    </tr>\n",
              "    <tr>\n",
              "      <td>21</td>\n",
              "      <td>0.024500</td>\n",
              "    </tr>\n",
              "    <tr>\n",
              "      <td>22</td>\n",
              "      <td>0.018900</td>\n",
              "    </tr>\n",
              "    <tr>\n",
              "      <td>23</td>\n",
              "      <td>0.013600</td>\n",
              "    </tr>\n",
              "    <tr>\n",
              "      <td>24</td>\n",
              "      <td>0.009100</td>\n",
              "    </tr>\n",
              "    <tr>\n",
              "      <td>25</td>\n",
              "      <td>0.006800</td>\n",
              "    </tr>\n",
              "    <tr>\n",
              "      <td>26</td>\n",
              "      <td>0.005800</td>\n",
              "    </tr>\n",
              "    <tr>\n",
              "      <td>27</td>\n",
              "      <td>0.004900</td>\n",
              "    </tr>\n",
              "    <tr>\n",
              "      <td>28</td>\n",
              "      <td>0.003800</td>\n",
              "    </tr>\n",
              "    <tr>\n",
              "      <td>29</td>\n",
              "      <td>0.003200</td>\n",
              "    </tr>\n",
              "    <tr>\n",
              "      <td>30</td>\n",
              "      <td>0.002800</td>\n",
              "    </tr>\n",
              "    <tr>\n",
              "      <td>31</td>\n",
              "      <td>0.002500</td>\n",
              "    </tr>\n",
              "    <tr>\n",
              "      <td>32</td>\n",
              "      <td>0.002300</td>\n",
              "    </tr>\n",
              "    <tr>\n",
              "      <td>33</td>\n",
              "      <td>0.002100</td>\n",
              "    </tr>\n",
              "    <tr>\n",
              "      <td>34</td>\n",
              "      <td>0.001900</td>\n",
              "    </tr>\n",
              "    <tr>\n",
              "      <td>35</td>\n",
              "      <td>0.001800</td>\n",
              "    </tr>\n",
              "    <tr>\n",
              "      <td>36</td>\n",
              "      <td>0.001700</td>\n",
              "    </tr>\n",
              "    <tr>\n",
              "      <td>37</td>\n",
              "      <td>0.001600</td>\n",
              "    </tr>\n",
              "    <tr>\n",
              "      <td>38</td>\n",
              "      <td>0.001500</td>\n",
              "    </tr>\n",
              "    <tr>\n",
              "      <td>39</td>\n",
              "      <td>0.001400</td>\n",
              "    </tr>\n",
              "    <tr>\n",
              "      <td>40</td>\n",
              "      <td>0.001300</td>\n",
              "    </tr>\n",
              "    <tr>\n",
              "      <td>41</td>\n",
              "      <td>0.001300</td>\n",
              "    </tr>\n",
              "    <tr>\n",
              "      <td>42</td>\n",
              "      <td>0.001200</td>\n",
              "    </tr>\n",
              "    <tr>\n",
              "      <td>43</td>\n",
              "      <td>0.001100</td>\n",
              "    </tr>\n",
              "    <tr>\n",
              "      <td>44</td>\n",
              "      <td>0.001100</td>\n",
              "    </tr>\n",
              "    <tr>\n",
              "      <td>45</td>\n",
              "      <td>0.001100</td>\n",
              "    </tr>\n",
              "    <tr>\n",
              "      <td>46</td>\n",
              "      <td>0.001000</td>\n",
              "    </tr>\n",
              "    <tr>\n",
              "      <td>47</td>\n",
              "      <td>0.001000</td>\n",
              "    </tr>\n",
              "    <tr>\n",
              "      <td>48</td>\n",
              "      <td>0.001000</td>\n",
              "    </tr>\n",
              "    <tr>\n",
              "      <td>49</td>\n",
              "      <td>0.001000</td>\n",
              "    </tr>\n",
              "    <tr>\n",
              "      <td>50</td>\n",
              "      <td>0.000900</td>\n",
              "    </tr>\n",
              "    <tr>\n",
              "      <td>51</td>\n",
              "      <td>0.000900</td>\n",
              "    </tr>\n",
              "    <tr>\n",
              "      <td>52</td>\n",
              "      <td>0.000900</td>\n",
              "    </tr>\n",
              "    <tr>\n",
              "      <td>53</td>\n",
              "      <td>0.000900</td>\n",
              "    </tr>\n",
              "    <tr>\n",
              "      <td>54</td>\n",
              "      <td>0.000900</td>\n",
              "    </tr>\n",
              "    <tr>\n",
              "      <td>55</td>\n",
              "      <td>0.000900</td>\n",
              "    </tr>\n",
              "    <tr>\n",
              "      <td>56</td>\n",
              "      <td>0.000800</td>\n",
              "    </tr>\n",
              "    <tr>\n",
              "      <td>57</td>\n",
              "      <td>0.000800</td>\n",
              "    </tr>\n",
              "    <tr>\n",
              "      <td>58</td>\n",
              "      <td>0.000800</td>\n",
              "    </tr>\n",
              "    <tr>\n",
              "      <td>59</td>\n",
              "      <td>0.000800</td>\n",
              "    </tr>\n",
              "    <tr>\n",
              "      <td>60</td>\n",
              "      <td>0.000800</td>\n",
              "    </tr>\n",
              "  </tbody>\n",
              "</table><p>"
            ]
          },
          "metadata": {}
        }
      ],
      "source": [
        "trainer_stats = trainer.train()"
      ]
    },
    {
      "cell_type": "code",
      "execution_count": 57,
      "metadata": {
        "colab": {
          "base_uri": "https://localhost:8080/"
        },
        "id": "pCqnaKmlO1U9",
        "outputId": "670bcfc1-a57a-4b62-b1cc-580734ad55c1"
      },
      "outputs": [
        {
          "output_type": "stream",
          "name": "stdout",
          "text": [
            "124.0547 seconds used for training.\n",
            "2.07 minutes used for training.\n",
            "Peak reserved memory = 6.812 GB.\n",
            "Peak reserved memory for training = 0.0 GB.\n",
            "Peak reserved memory % of max memory = 46.211 %.\n",
            "Peak reserved memory for training % of max memory = 0.0 %.\n"
          ]
        }
      ],
      "source": [
        "# @title Show final memory and time stats\n",
        "used_memory = round(torch.cuda.max_memory_reserved() / 1024 / 1024 / 1024, 3)\n",
        "used_memory_for_lora = round(used_memory - start_gpu_memory, 3)\n",
        "used_percentage = round(used_memory / max_memory * 100, 3)\n",
        "lora_percentage = round(used_memory_for_lora / max_memory * 100, 3)\n",
        "print(f\"{trainer_stats.metrics['train_runtime']} seconds used for training.\")\n",
        "print(\n",
        "    f\"{round(trainer_stats.metrics['train_runtime']/60, 2)} minutes used for training.\"\n",
        ")\n",
        "print(f\"Peak reserved memory = {used_memory} GB.\")\n",
        "print(f\"Peak reserved memory for training = {used_memory_for_lora} GB.\")\n",
        "print(f\"Peak reserved memory % of max memory = {used_percentage} %.\")\n",
        "print(f\"Peak reserved memory for training % of max memory = {lora_percentage} %.\")"
      ]
    },
    {
      "cell_type": "markdown",
      "metadata": {
        "id": "ekOmTR1hSNcr"
      },
      "source": [
        "<a name=\"Inference\"></a>\n",
        "### Inference\n",
        "Let's run the model! You can change the instruction and input - leave the output blank!\n",
        "\n",
        "**[NEW] Try 2x faster inference in a free Colab for Llama-3.1 8b Instruct [here](https://colab.research.google.com/drive/1T-YBVfnphoVc8E2E854qF3jdia2Ll2W2?usp=sharing)**\n",
        "\n",
        "We use `min_p = 0.1` and `temperature = 1.5`. Read this [Tweet](https://x.com/menhguin/status/1826132708508213629) for more information on why."
      ]
    },
    {
      "cell_type": "code",
      "execution_count": 58,
      "metadata": {
        "colab": {
          "base_uri": "https://localhost:8080/"
        },
        "id": "kR3gIAX-SM2q",
        "outputId": "d63c137b-e504-41b6-d469-40bf74832c3a"
      },
      "outputs": [
        {
          "output_type": "stream",
          "name": "stderr",
          "text": [
            "The attention mask is not set and cannot be inferred from input because pad token is same as eos token. As a consequence, you may observe unexpected behavior. Please pass your input's `attention_mask` to obtain reliable results.\n"
          ]
        },
        {
          "output_type": "execute_result",
          "data": {
            "text/plain": [
              "['<|begin_of_text|><|start_header_id|>system<|end_header_id|>\\n\\nCutting Knowledge Date: December 2023\\nToday Date: 26 July 2024\\n\\n<|eot_id|><|start_header_id|>user<|end_header_id|>\\n\\nContinue the fibonnaci sequence: 1, 1, 2, 3, 5, 8,<|eot_id|><|start_header_id|>assistant<|end_header_id|>\\n\\nThe next numbers in the Fibonacci sequence are:\\n\\n11, 18, 29, 47, 76, 123, 199, 322, 521, 843, 1364, 2207, 3613, 5929, 9552, 15321, 247']"
            ]
          },
          "metadata": {},
          "execution_count": 58
        }
      ],
      "source": [
        "from unsloth.chat_templates import get_chat_template\n",
        "\n",
        "tokenizer = get_chat_template(\n",
        "    tokenizer,\n",
        "    chat_template = \"llama-3.1\",\n",
        ")\n",
        "FastLanguageModel.for_inference(model) # Enable native 2x faster inference\n",
        "\n",
        "messages = [\n",
        "    {\"role\": \"user\", \"content\": \"Continue the fibonnaci sequence: 1, 1, 2, 3, 5, 8,\"},\n",
        "]\n",
        "inputs = tokenizer.apply_chat_template(\n",
        "    messages,\n",
        "    tokenize = True,\n",
        "    add_generation_prompt = True, # Must add for generation\n",
        "    return_tensors = \"pt\",\n",
        ").to(\"cuda\")\n",
        "\n",
        "outputs = model.generate(input_ids = inputs, max_new_tokens = 64, use_cache = True,\n",
        "                         temperature = 1.5, min_p = 0.1)\n",
        "tokenizer.batch_decode(outputs)"
      ]
    },
    {
      "cell_type": "markdown",
      "metadata": {
        "id": "CrSvZObor0lY"
      },
      "source": [
        " You can also use a `TextStreamer` for continuous inference - so you can see the generation token by token, instead of waiting the whole time!"
      ]
    },
    {
      "cell_type": "code",
      "execution_count": 59,
      "metadata": {
        "colab": {
          "base_uri": "https://localhost:8080/"
        },
        "id": "e2pEuRb1r2Vg",
        "outputId": "f82eb0a4-b562-44a6-d083-e7dbbbf9b644"
      },
      "outputs": [
        {
          "output_type": "stream",
          "name": "stdout",
          "text": [
            "The Fibonacci sequence continues as: 13, 21, 34, 55, 89, 144, 233, 377, 610, 987, 1597, 2584, 4181, 6765, 10946, 17711, 28657, 46368, 75025, 121393, 196418, 317811, 514229, 832040, 1346269, 2178309, 3524578, 5702887, 9227465, 14930352, 24157817, \n"
          ]
        }
      ],
      "source": [
        "FastLanguageModel.for_inference(model) # Enable native 2x faster inference\n",
        "\n",
        "messages = [\n",
        "    {\"role\": \"user\", \"content\": \"Continue the fibonnaci sequence: 1, 1, 2, 3, 5, 8,\"},\n",
        "]\n",
        "inputs = tokenizer.apply_chat_template(\n",
        "    messages,\n",
        "    tokenize = True,\n",
        "    add_generation_prompt = True, # Must add for generation\n",
        "    return_tensors = \"pt\",\n",
        ").to(\"cuda\")\n",
        "\n",
        "from transformers import TextStreamer\n",
        "text_streamer = TextStreamer(tokenizer, skip_prompt = True)\n",
        "_ = model.generate(input_ids = inputs, streamer = text_streamer, max_new_tokens = 128,\n",
        "                   use_cache = True, temperature = 1.5, min_p = 0.1)"
      ]
    },
    {
      "cell_type": "markdown",
      "metadata": {
        "id": "uMuVrWbjAzhc"
      },
      "source": [
        "<a name=\"Save\"></a>\n",
        "### Saving, loading finetuned models\n",
        "To save the final model as LoRA adapters, either use Huggingface's `push_to_hub` for an online save or `save_pretrained` for a local save.\n",
        "\n",
        "**[NOTE]** This ONLY saves the LoRA adapters, and not the full model. To save to 16bit or GGUF, scroll down!"
      ]
    },
    {
      "cell_type": "code",
      "execution_count": 60,
      "metadata": {
        "colab": {
          "base_uri": "https://localhost:8080/"
        },
        "id": "upcOlWe7A1vc",
        "outputId": "6c6e2344-b575-480d-e32a-c19f9ab7337d"
      },
      "outputs": [
        {
          "output_type": "execute_result",
          "data": {
            "text/plain": [
              "('lora_model/tokenizer_config.json',\n",
              " 'lora_model/special_tokens_map.json',\n",
              " 'lora_model/tokenizer.json')"
            ]
          },
          "metadata": {},
          "execution_count": 60
        }
      ],
      "source": [
        "model.save_pretrained(\"lora_model\")  # Local saving\n",
        "tokenizer.save_pretrained(\"lora_model\")\n",
        "# model.push_to_hub(\"your_name/lora_model\", token = \"...\") # Online saving\n",
        "# tokenizer.push_to_hub(\"your_name/lora_model\", token = \"...\") # Online saving"
      ]
    },
    {
      "cell_type": "markdown",
      "metadata": {
        "id": "AEEcJ4qfC7Lp"
      },
      "source": [
        "Now if you want to load the LoRA adapters we just saved for inference, set `False` to `True`:"
      ]
    },
    {
      "cell_type": "code",
      "execution_count": 61,
      "metadata": {
        "colab": {
          "base_uri": "https://localhost:8080/"
        },
        "id": "MKX_XKs_BNZR",
        "outputId": "4cab3b82-f8ab-425a-c826-1328b9188b5f"
      },
      "outputs": [
        {
          "output_type": "stream",
          "name": "stdout",
          "text": [
            "The tall tower you're referring to is the Eiffel Tower, located in the heart of Paris, the capital of France. This iconic iron lattice tower stands 324 meters (1,063 feet) tall, making it one of the most recognizable landmarks in the world. The Eiffel Tower was built for the 1889 World's Fair and was intended to be a temporary structure, but it has become an enduring symbol of Paris and France, attracting millions of visitors each year. Its four pillars are anchored to the ground, and the tower's lattice work is supported by a complex system of girders and latticework\n"
          ]
        }
      ],
      "source": [
        "if False:\n",
        "    from unsloth import FastLanguageModel\n",
        "    model, tokenizer = FastLanguageModel.from_pretrained(\n",
        "        model_name = \"lora_model\", # YOUR MODEL YOU USED FOR TRAINING\n",
        "        max_seq_length = max_seq_length,\n",
        "        dtype = dtype,\n",
        "        load_in_4bit = load_in_4bit,\n",
        "    )\n",
        "    FastLanguageModel.for_inference(model) # Enable native 2x faster inference\n",
        "\n",
        "messages = [\n",
        "    {\"role\": \"user\", \"content\": \"Describe a tall tower in the capital of France.\"},\n",
        "]\n",
        "inputs = tokenizer.apply_chat_template(\n",
        "    messages,\n",
        "    tokenize = True,\n",
        "    add_generation_prompt = True, # Must add for generation\n",
        "    return_tensors = \"pt\",\n",
        ").to(\"cuda\")\n",
        "\n",
        "from transformers import TextStreamer\n",
        "text_streamer = TextStreamer(tokenizer, skip_prompt = True)\n",
        "_ = model.generate(input_ids = inputs, streamer = text_streamer, max_new_tokens = 128,\n",
        "                   use_cache = True, temperature = 1.5, min_p = 0.1)"
      ]
    },
    {
      "cell_type": "markdown",
      "metadata": {
        "id": "QQMjaNrjsU5_"
      },
      "source": [
        "You can also use Hugging Face's `AutoModelForPeftCausalLM`. Only use this if you do not have `unsloth` installed. It can be hopelessly slow, since `4bit` model downloading is not supported, and Unsloth's **inference is 2x faster**."
      ]
    },
    {
      "cell_type": "code",
      "execution_count": 62,
      "metadata": {
        "id": "yFfaXG0WsQuE"
      },
      "outputs": [],
      "source": [
        "if False:\n",
        "    # I highly do NOT suggest - use Unsloth if possible\n",
        "    from peft import AutoPeftModelForCausalLM\n",
        "    from transformers import AutoTokenizer\n",
        "    model = AutoPeftModelForCausalLM.from_pretrained(\n",
        "        \"lora_model\", # YOUR MODEL YOU USED FOR TRAINING\n",
        "        load_in_4bit = load_in_4bit,\n",
        "    )\n",
        "    tokenizer = AutoTokenizer.from_pretrained(\"lora_model\")"
      ]
    },
    {
      "cell_type": "markdown",
      "metadata": {
        "id": "f422JgM9sdVT"
      },
      "source": [
        "### Saving to float16 for VLLM\n",
        "\n",
        "We also support saving to `float16` directly. Select `merged_16bit` for float16 or `merged_4bit` for int4. We also allow `lora` adapters as a fallback. Use `push_to_hub_merged` to upload to your Hugging Face account! You can go to https://huggingface.co/settings/tokens for your personal tokens."
      ]
    },
    {
      "cell_type": "code",
      "execution_count": 63,
      "metadata": {
        "id": "iHjt_SMYsd3P"
      },
      "outputs": [],
      "source": [
        "# Merge to 16bit\n",
        "if False: model.save_pretrained_merged(\"model\", tokenizer, save_method = \"merged_16bit\",)\n",
        "if False: model.push_to_hub_merged(\"hf/model\", tokenizer, save_method = \"merged_16bit\", token = \"\")\n",
        "\n",
        "# Merge to 4bit\n",
        "if False: model.save_pretrained_merged(\"model\", tokenizer, save_method = \"merged_4bit\",)\n",
        "if False: model.push_to_hub_merged(\"hf/model\", tokenizer, save_method = \"merged_4bit\", token = \"\")\n",
        "\n",
        "# Just LoRA adapters\n",
        "if False: model.save_pretrained_merged(\"model\", tokenizer, save_method = \"lora\",)\n",
        "if False: model.push_to_hub_merged(\"hf/model\", tokenizer, save_method = \"lora\", token = \"\")"
      ]
    },
    {
      "cell_type": "markdown",
      "metadata": {
        "id": "TCv4vXHd61i7"
      },
      "source": [
        "### GGUF / llama.cpp Conversion\n",
        "To save to `GGUF` / `llama.cpp`, we support it natively now! We clone `llama.cpp` and we default save it to `q8_0`. We allow all methods like `q4_k_m`. Use `save_pretrained_gguf` for local saving and `push_to_hub_gguf` for uploading to HF.\n",
        "\n",
        "Some supported quant methods (full list on our [Wiki page](https://github.com/unslothai/unsloth/wiki#gguf-quantization-options)):\n",
        "* `q8_0` - Fast conversion. High resource use, but generally acceptable.\n",
        "* `q4_k_m` - Recommended. Uses Q6_K for half of the attention.wv and feed_forward.w2 tensors, else Q4_K.\n",
        "* `q5_k_m` - Recommended. Uses Q6_K for half of the attention.wv and feed_forward.w2 tensors, else Q5_K.\n",
        "\n",
        "[**NEW**] To finetune and auto export to Ollama, try our [Ollama notebook](https://colab.research.google.com/drive/1WZDi7APtQ9VsvOrQSSC5DDtxq159j8iZ?usp=sharing)"
      ]
    },
    {
      "cell_type": "code",
      "execution_count": 64,
      "metadata": {
        "id": "FqfebeAdT073"
      },
      "outputs": [],
      "source": [
        "# Save to 8bit Q8_0\n",
        "if False: model.save_pretrained_gguf(\"model\", tokenizer,)\n",
        "# Remember to go to https://huggingface.co/settings/tokens for a token!\n",
        "# And change hf to your username!\n",
        "if False: model.push_to_hub_gguf(\"hf/model\", tokenizer, token = \"\")\n",
        "\n",
        "# Save to 16bit GGUF\n",
        "if False: model.save_pretrained_gguf(\"model\", tokenizer, quantization_method = \"f16\")\n",
        "if False: model.push_to_hub_gguf(\"hf/model\", tokenizer, quantization_method = \"f16\", token = \"\")\n",
        "\n",
        "# Save to q4_k_m GGUF\n",
        "if False: model.save_pretrained_gguf(\"model\", tokenizer, quantization_method = \"q4_k_m\")\n",
        "if False: model.push_to_hub_gguf(\"hf/model\", tokenizer, quantization_method = \"q4_k_m\", token = \"\")\n",
        "\n",
        "# Save to multiple GGUF options - much faster if you want multiple!\n",
        "if False:\n",
        "    model.push_to_hub_gguf(\n",
        "        \"hf/model\", # Change hf to your username!\n",
        "        tokenizer,\n",
        "        quantization_method = [\"q4_k_m\", \"q8_0\", \"q5_k_m\",],\n",
        "        token = \"\", # Get a token at https://huggingface.co/settings/tokens\n",
        "    )"
      ]
    },
    {
      "cell_type": "markdown",
      "metadata": {
        "id": "OxnCLhacur3u"
      },
      "source": [
        "Now, use the `model-unsloth.gguf` file or `model-unsloth-Q4_K_M.gguf` file in llama.cpp or a UI based system like Jan or Open WebUI. You can install Jan [here](https://github.com/janhq/jan) and Open WebUI [here](https://github.com/open-webui/open-webui)\n",
        "\n",
        "And we're done! If you have any questions on Unsloth, we have a [Discord](https://discord.gg/unsloth) channel! If you find any bugs or want to keep updated with the latest LLM stuff, or need help, join projects etc, feel free to join our Discord!\n",
        "\n",
        "Some other links:\n",
        "1. Llama 3.2 Conversational notebook. [Free Colab](https://colab.research.google.com/github/unslothai/notebooks/blob/main/nb/Llama3.2_(1B_and_3B)-Conversational.ipynb)\n",
        "2. Saving finetunes to Ollama. [Free notebook](https://colab.research.google.com/github/unslothai/notebooks/blob/main/nb/Llama3_(8B)-Ollama.ipynb)\n",
        "3. Llama 3.2 Vision finetuning - Radiography use case. [Free Colab](https://colab.research.google.com/github/unslothai/notebooks/blob/main/nb/Llama3.2_(11B)-Vision.ipynb)\n",
        "6. See notebooks for DPO, ORPO, Continued pretraining, conversational finetuning and more on our [documentation](https://docs.unsloth.ai/get-started/unsloth-notebooks)!\n",
        "\n",
        "<div class=\"align-center\">\n",
        "  <a href=\"https://unsloth.ai\"><img src=\"https://github.com/unslothai/unsloth/raw/main/images/unsloth%20new%20logo.png\" width=\"115\"></a>\n",
        "  <a href=\"https://discord.gg/unsloth\"><img src=\"https://github.com/unslothai/unsloth/raw/main/images/Discord.png\" width=\"145\"></a>\n",
        "  <a href=\"https://docs.unsloth.ai/\"><img src=\"https://github.com/unslothai/unsloth/blob/main/images/documentation%20green%20button.png?raw=true\" width=\"125\"></a>\n",
        "\n",
        "  Join Discord if you need help + ⭐️ <i>Star us on <a href=\"https://github.com/unslothai/unsloth\">Github</a> </i> ⭐️\n",
        "</div>\n"
      ]
    }
  ],
  "metadata": {
    "accelerator": "GPU",
    "colab": {
      "gpuType": "T4",
      "provenance": []
    },
    "kernelspec": {
      "display_name": "Python 3",
      "name": "python3"
    },
    "language_info": {
      "name": "python"
    }
  },
  "nbformat": 4,
  "nbformat_minor": 0
}